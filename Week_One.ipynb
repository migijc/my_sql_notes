{
 "cells": [
  {
   "cell_type": "code",
   "execution_count": null,
   "id": "b935b56c-1b7f-47df-b893-698a38f4f4ad",
   "metadata": {},
   "outputs": [],
   "source": [
    "# WILL BE USING SQLite, DB2, FOR THIS NOTEBOOK\n",
    "# AUTHOR: MIGUEL GIL\n",
    "# Notes Taken from IBM Course 'Databases and SQL for DATA Science with Python'"
   ]
  },
  {
   "cell_type": "raw",
   "id": "9fa22878-e56e-43dd-a79d-5274fb1d1a10",
   "metadata": {},
   "source": [
    "BASICS FOR SQL AND RELATIONAL DBS"
   ]
  },
  {
   "cell_type": "code",
   "execution_count": null,
   "id": "2ecc8cbd-da8c-4715-a629-3f12f687888f",
   "metadata": {},
   "outputs": [],
   "source": [
    "# SQL = Structured Query Language"
   ]
  },
  {
   "cell_type": "raw",
   "id": "644a90d2-2017-4086-86b5-6528172ec801",
   "metadata": {},
   "source": [
    "SELECT Statement: A data manipulation language(DML) statement used to read and modify data\n",
    " -is a 'Query'"
   ]
  },
  {
   "cell_type": "code",
   "execution_count": null,
   "id": "6fe8ba75-d7f9-4aee-a7b0-c408af076e65",
   "metadata": {},
   "outputs": [],
   "source": [
    "Select * from <table_name>\n",
    "# used to select all columns from <table_name>\n",
    "# Can get only needed columns with the following\n",
    "Select <col_name1>, <col_name2> from <table_name>"
   ]
  },
  {
   "cell_type": "raw",
   "id": "f7ce92ee-8979-4166-a9e9-a886972d5061",
   "metadata": {},
   "source": [
    "FROM: Specifies from which table to get the data.\n",
    "The clause can include optional JOIN subclauses to specify the rules for joining tables."
   ]
  },
  {
   "cell_type": "raw",
   "id": "9879da8a-1a3a-4b14-8bf6-be0c412df9f0",
   "metadata": {},
   "source": [
    "We can restrict the Result Set: WHERE Clause\n",
    "**ALWAYS REQUIRES a __PREDICATE__\n",
    "**USED TO SPECIFY ROWS TO RETRIEVE\n",
    "A Predicate is an expression which evaluates to True, False || Unknown "
   ]
  },
  {
   "cell_type": "code",
   "execution_count": null,
   "id": "e8d509cd-f038-4b12-9dcd-6cd36f450cc9",
   "metadata": {},
   "outputs": [],
   "source": [
    "Select book_id, title from Book\n",
    "    WHERE book_id='B1'\n",
    "# This return set will include book_id & title ONLY for row w/ book_id = \"B1\"\n",
    "# BETTER/ALT SYNTAX\n",
    "Select book_id, title\n",
    "From Book\n",
    "WHERE book_id='B1'\n",
    ";\n",
    "# NOTE the ';' Semicolon after the SQL Statement, good habit ."
   ]
  },
  {
   "cell_type": "raw",
   "id": "3afe5e9f-de59-42f1-9f09-f4206b481394",
   "metadata": {},
   "source": [
    "USEFUL EXPRESSIONS TO USE W/ SELECT Statements\n",
    "\n",
    "count() : A built in DB function that retrieves # of rows matching the query.\n",
    "    -Normally placed @ Beginning after 'SELECT'\n",
    "\n",
    "Distinct :Used to remove dublicate data from a RESULT SET\n",
    "    -Placed Before Column Names\n",
    "\n",
    "Limit :Used to restrict # of rows to retrieve from DB\n",
    "    -placed @ end of statement after a WHERE Clause"
   ]
  },
  {
   "cell_type": "code",
   "execution_count": null,
   "id": "ee216bbc-907f-4079-a84d-39b6e8cda2a2",
   "metadata": {},
   "outputs": [],
   "source": [
    "# COUNT()\n",
    "# used to get count of all rows\n",
    "Select COUNT(*) from TableName;\n",
    "\n",
    "#CAN count specific rows using WHERE Clause\n",
    "SELECT COUNT(COUNTRY) From MEDALS\n",
    "    WHERE COUNTRY='CANADA'\n",
    "    # THIS ^ statement retrieves count of specific rows"
   ]
  },
  {
   "cell_type": "code",
   "execution_count": null,
   "id": "e7f19b4a-759f-43f6-933c-66862692eec0",
   "metadata": {},
   "outputs": [],
   "source": [
    "# DISTINCT\n",
    "# Can retirve Unique values in a column \n",
    "select DISTINCT column_name from table_name\n",
    "\n",
    "# USING MEDALS table from ^ COUNT() example, \n",
    "# if a country recieved many gold medals and we only \n",
    "# a list of UNIQUE values of countries that received 'GOLD' Medals.\n",
    "select DISTINCT from MEDALS\n",
    "    WHERE MEDALTYPE='GOLD'"
   ]
  },
  {
   "cell_type": "code",
   "execution_count": null,
   "id": "9c6c3277-bcb8-4733-a71d-62791e1f8039",
   "metadata": {},
   "outputs": [],
   "source": [
    "# LIMIT\n",
    "select * from tablename LIMIT 10\n",
    "\n",
    "# CAN COMBINE W/ OFFSET to start at a specific ROW for retrival EX.\n",
    "SELECT * FROM COL_NAME LIMIT 15 OFFSET 10\n",
    "    # HERE our statement will retrieve the first 15 rows starting @ ROW 11"
   ]
  },
  {
   "cell_type": "raw",
   "id": "29656523-6415-4a01-9de7-f313cf84da62",
   "metadata": {},
   "source": [
    "INSERT STATEMENT \n",
    "    -USED to insert data to populate table w/ data\n",
    "    -For adding NEW ROWS to a table\n",
    "    -Is a DML Statement\n",
    "SYNTAX:\n",
    "    INSERT INTO <tableName>\n",
    "        <([columnName])>\n",
    "    VALUES ([Value])"
   ]
  },
  {
   "cell_type": "code",
   "execution_count": null,
   "id": "7d728915-f907-421d-af0e-0a1a6de2bc37",
   "metadata": {},
   "outputs": [],
   "source": [
    "# EXAMPLE USING INSERT \n",
    "INSERT INTO Author\n",
    "    (Author_ID, Last_Name, First_Name, Email, City, Country)\n",
    "VALUES('A1', 'CHONG', 'RAUL', 'ww@aol.com', 'TORONTO', 'USA')\n",
    "# ** length of VALUES List and Respective Column should be = to eachother \n",
    "#    to ensure each COLUMN has a value.\n",
    "\n",
    "# CAN ADD MULTIPLE ROWS by Specifying each ROW in VALUES Clause \n",
    "INSERT INTO Author\n",
    "    (Author_ID, Last_Name, First_Name, Email, City, Country)\n",
    "VALUES\n",
    "    ('A1', 'CHONG', 'RAUL', 'ww@aol.com', 'TORONTO', 'USA'),\n",
    "    ('A2', 'KOG', 'PAUL', 'aa@gmail.com', 'MIAMI', 'USA')"
   ]
  },
  {
   "cell_type": "raw",
   "id": "141bef55-4226-4332-b10f-a19d2ece6387",
   "metadata": {},
   "source": [
    "UPDATE & DELETE STATEMENTS\n",
    "\n",
    "We can ALTER the data of a table w/ UPDATE\n",
    "    -Is a DML Statement\n",
    "SYNTAX UPDATE:\n",
    "    UPDATE <table_name>\n",
    "    SET[[column_name]=[value]]\n",
    "    WHERE <condition>\n",
    "SYNTAX DELETE:\n",
    "    DELETE From <col_name>\n",
    "    WHERE <condition>"
   ]
  },
  {
   "cell_type": "code",
   "execution_count": null,
   "id": "e3cda5ad-9ba1-4959-b3de-9d0d8d11ba1b",
   "metadata": {},
   "outputs": [],
   "source": [
    "# UPDATE Statement Example\n",
    "UPDATE Author\n",
    "SET \n",
    "    First_Name='Aldo',\n",
    "    Last_Name='Pollo'\n",
    "    WHERE Author_ID='A2' \n",
    "# WHERE Clause is IMPORTANT Because all rows will be updated/altered w/out one."
   ]
  },
  {
   "cell_type": "code",
   "execution_count": null,
   "id": "d000e95d-ac0c-4131-a887-65213bad4ec3",
   "metadata": {},
   "outputs": [],
   "source": [
    "# DELETE Statement Example\n",
    "DELETE from Author\n",
    "WHERE Author_ID IN('A2', 'A3')\n",
    "# **IF NO WHERE Clause is included all ROWS will be deleted\n",
    "# USING IN we can supply a list of values to check for."
   ]
  }
 ],
 "metadata": {
  "kernelspec": {
   "display_name": "Python 3 (ipykernel)",
   "language": "python",
   "name": "python3"
  },
  "language_info": {
   "codemirror_mode": {
    "name": "ipython",
    "version": 3
   },
   "file_extension": ".py",
   "mimetype": "text/x-python",
   "name": "python",
   "nbconvert_exporter": "python",
   "pygments_lexer": "ipython3",
   "version": "3.10.12"
  }
 },
 "nbformat": 4,
 "nbformat_minor": 5
}
