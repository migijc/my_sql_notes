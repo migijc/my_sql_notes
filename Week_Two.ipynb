{
 "cells": [
  {
   "cell_type": "raw",
   "id": "5aa01e78-0900-4f55-9301-dfc562690501",
   "metadata": {},
   "source": [
    "RELATIONAL DBs are very Object Oriented\n",
    "Entities are essentially Objects while their attributes are object properties.\n",
    "\n",
    "In a Relational DB Each Entity/Object is a Table Where the columns are the attributes/properties.\n",
    "\n",
    "Each Tables has a PRIMARY KEY: Unique to each table\n",
    "**FOREIGN KEY: Is a Primary Key defined in another TABLE creating a link between tables."
   ]
  },
  {
   "cell_type": "raw",
   "id": "5ed33504-c845-436a-8191-7bed465609e7",
   "metadata": {},
   "source": [
    "TYPES OF SQL STATEMENTS\n",
    "    1)DDL : Data Definition Language, define change || drop data.\n",
    "        -CREATE : to create tables and defining columns\n",
    "        -ALTER : Adding & Dropping columns & modifying data types\n",
    "        -TRUNCATE : Deletes data IN table but NOT table itself.\n",
    "        -DROP : For deleting Tables\n",
    "        **Often Refered to as CRUD Operation (create, read, update, delete)\n",
    "\n",
    "    2)DML : Data Manipulation Language\n",
    "        -INSERT : for inserting row(s) into a table\n",
    "        -SELECT : Reads || selects rows from a table\n",
    "        -UPDATE : edit row(s)\n",
    "        -DELETE : Removes ROW from a table"
   ]
  },
  {
   "cell_type": "raw",
   "id": "84963b17-39f8-4f14-809b-4490614b9706",
   "metadata": {},
   "source": [
    "CREATE table\n",
    "SYNTAX: CREATE TABLE <new_table_name>  \n",
    "    (\n",
    "    column_name_1 datatype optional_params,\n",
    "    column_name_2 datatype optional_params,\n",
    "    column_name_3 datatype,\n",
    "    ...\n",
    "    )\n",
    "\n",
    "For Example to create a table for CANADIAN PROVINCES\n",
    "CREATE TABLE provinces(\n",
    "    id char(2) PRIMARY KEY NOT NULL,\n",
    "    name varchar(24)\n",
    ")\n",
    "\n",
    "** char = fixed character length ie char(2)\n",
    "** varchar = string of variable length, pass max length ie varchar(24)\n",
    "__OPTIONAL_PARAMS__\n",
    "    -NOT NULL : constraint that makes it so value cannot be left null ie Primary Keys"
   ]
  },
  {
   "cell_type": "raw",
   "id": "bb043718-f5eb-4040-9d94-22a554c50709",
   "metadata": {},
   "source": [
    "ALTER DROP & TRUNCATE tables\n",
    "_____________________________________________________________________________________________________________________\n",
    "    ALTER TABLE... ALTER COLUMN:\n",
    "        -to add or remove columns\n",
    "        -modify datatype of col\n",
    "        -add || remove keys\n",
    "        -add || remove constraints\n",
    "\n",
    "        SYNTAX:\n",
    "            *(ADD)\n",
    "            ALTER TABLE <table_to_alter>\n",
    "                ADD COLUMN <col_name_1> datatype\n",
    "                ...\n",
    "                ADD COLUMN <col_name_n> datatype\n",
    "\n",
    "            ----------------------------------------\n",
    "\n",
    "            *(ALTER COLUMN)\n",
    "            ALTER TABLE <table_to_alter>\n",
    "                ALTER COLUMN <column_name> SET DATA TYPE\n",
    "            <datatype>\n",
    "\n",
    "            ----------------------------------------\n",
    "\n",
    "            *(DROP)\n",
    "            ALTER TABLE <table_to_alter>\n",
    "                DROP COLUMN <column_name>\n",
    "___________________________________________________________________________________________________________________\n",
    "    DROP TABLE\n",
    "        -Removes a Table from DB and table data\n",
    "\n",
    "        SYNTAX:\n",
    "            DROP TABLE <table_name>\n",
    "____________________________________________________________________________________________________________________\n",
    "    TRUNCATE TABLE\n",
    "        -Used to remove all rows from a table but not table itself\n",
    "\n",
    "        SYNTAX:\n",
    "            TRUNCATE TABLE <table_name>\n",
    "                IMMEDIATE;\n",
    "\n",
    "**IMMEDIATE ^ specifies to process the statement immediately and that the action can ! be undone\n",
    "\n",
    "MODIFY Clause is used to alter the definition of existing columns in the table.\n",
    "  This allows us to make changes to various aspects of the column including \n",
    "  datatype, size, constraints.\n",
    "\n",
    "ALTER TABLE table_name\n",
    "CHANGE old_column_name new_column_name new_data_type [size];\n",
    "\n",
    "**The functionality of CHANGE and MODIFY is essentially the same.\n",
    "  They both allow you to modify the definition of existing columns."
   ]
  },
  {
   "cell_type": "code",
   "execution_count": null,
   "id": "32c7b502-ba18-40bd-99d7-b109fe97ddbd",
   "metadata": {},
   "outputs": [],
   "source": []
  }
 ],
 "metadata": {
  "kernelspec": {
   "display_name": "Python 3 (ipykernel)",
   "language": "python",
   "name": "python3"
  },
  "language_info": {
   "codemirror_mode": {
    "name": "ipython",
    "version": 3
   },
   "file_extension": ".py",
   "mimetype": "text/x-python",
   "name": "python",
   "nbconvert_exporter": "python",
   "pygments_lexer": "ipython3",
   "version": "3.10.12"
  }
 },
 "nbformat": 4,
 "nbformat_minor": 5
}
