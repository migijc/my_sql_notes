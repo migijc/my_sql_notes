{
 "cells": [
  {
   "cell_type": "raw",
   "id": "483c984c-1a54-4679-aa04-24f5fd5fa4a6",
   "metadata": {},
   "source": [
    "We Interact with DBMSs w/ Python using SQL API\n",
    "\n",
    "Each DB System has its own library for SQL API"
   ]
  },
  {
   "cell_type": "raw",
   "id": "028930a9-3b44-4815-a1b5-5fcbfae1fadc",
   "metadata": {},
   "source": [
    "DP-API\n",
    "\n",
    "Pythons standard API to interact with many kinds of Relational DBs\n",
    "\n",
    "2 Main Concepts\n",
    "    1) Connection Objects\n",
    "        - Use to connect to a DB and manage transactions\n",
    "    2) Cursor Objects\n",
    "        - Used to run queries."
   ]
  },
  {
   "cell_type": "raw",
   "id": "f5e1f01b-b611-4a40-8301-dadd0dea1a9e",
   "metadata": {},
   "source": [
    "CONNECTION METHODS\n",
    "\n",
    "cursor()   : Returns new cursor object\n",
    "commit()   : used to commit pending transactions to Db\n",
    "rollback() : Causes the DB to rollback to the start of any pending transaction\n",
    "close()    : Closes a Db Connection"
   ]
  },
  {
   "cell_type": "code",
   "execution_count": null,
   "id": "449daef8-a8b6-4a62-8f34-847b85009212",
   "metadata": {},
   "outputs": [],
   "source": [
    "CURSOR METHODS\n",
    "\n",
    "callproc() :\n",
    "execute() :\n",
    "executemany() : \n",
    "fetchone() : \n",
    "fetchmany() : \n",
    "fetchall() :\n",
    "nextset(): \n",
    "Arraysize() :\n",
    "close() :"
   ]
  },
  {
   "cell_type": "raw",
   "id": "39fa4172-310b-4c85-9adc-f6d0494f84c5",
   "metadata": {},
   "source": [
    "WRITING CODE USING DB-API\n",
    "\n",
    "*Need to import connection object from Db Api Module of our DB\n",
    "    -Create a connection object \n",
    "    -Create Cursor Object\n",
    "    -Run Queries (execute())\n",
    "    -Free Resources (close()) "
   ]
  },
  {
   "cell_type": "raw",
   "id": "628b9ebc-57d8-4663-8ea9-c76455760eb1",
   "metadata": {},
   "source": [
    "SQL MAGIC FOR JUPYTER\n",
    "\n",
    "Can use %% to apply to an entire cell || % to apply to a single line in a cell\n",
    "\n",
    "Syntax:\n",
    "    %%magicName\n",
    "    %magicName arguments\n",
    "\n",
    "%sql select * from tablename"
   ]
  },
  {
   "cell_type": "code",
   "execution_count": null,
   "id": "1dfa27b0-4fd1-47a3-ab31-4d73bd6cf83b",
   "metadata": {},
   "outputs": [],
   "source": []
  }
 ],
 "metadata": {
  "kernelspec": {
   "display_name": "Python 3 (ipykernel)",
   "language": "python",
   "name": "python3"
  },
  "language_info": {
   "codemirror_mode": {
    "name": "ipython",
    "version": 3
   },
   "file_extension": ".py",
   "mimetype": "text/x-python",
   "name": "python",
   "nbconvert_exporter": "python",
   "pygments_lexer": "ipython3",
   "version": "3.10.12"
  }
 },
 "nbformat": 4,
 "nbformat_minor": 5
}
