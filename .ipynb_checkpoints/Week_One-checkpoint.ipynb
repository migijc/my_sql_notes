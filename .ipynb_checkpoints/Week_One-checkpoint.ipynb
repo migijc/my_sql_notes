{
 "cells": [
  {
   "cell_type": "code",
   "execution_count": null,
   "id": "b935b56c-1b7f-47df-b893-698a38f4f4ad",
   "metadata": {},
   "outputs": [],
   "source": [
    "# WILL BE USING SQLite DB FOR THIS NOTEBOOK\n",
    "# AUTHOR: MIGUEL GIL\n",
    "#GITHUB: github.com/MIGIJC"
   ]
  },
  {
   "cell_type": "raw",
   "id": "9fa22878-e56e-43dd-a79d-5274fb1d1a10",
   "metadata": {},
   "source": [
    "BASICS FOR SQL AND RELATIONAL DBS"
   ]
  },
  {
   "cell_type": "code",
   "execution_count": null,
   "id": "2ecc8cbd-da8c-4715-a629-3f12f687888f",
   "metadata": {},
   "outputs": [],
   "source": [
    "# SQL = Structured Query Language"
   ]
  },
  {
   "cell_type": "raw",
   "id": "644a90d2-2017-4086-86b5-6528172ec801",
   "metadata": {},
   "source": [
    "SELECT Statement: A data manipulation language(DML) statement used to read and modify data\n",
    " -is a 'Query'"
   ]
  },
  {
   "cell_type": "code",
   "execution_count": null,
   "id": "6fe8ba75-d7f9-4aee-a7b0-c408af076e65",
   "metadata": {},
   "outputs": [],
   "source": [
    "Select * from <table_name>\n",
    "# used to select all columns from <table_name>\n",
    "# Can get only needed columns with the following\n",
    "Select <col_name1>, <col_name2> from <table_name>"
   ]
  },
  {
   "cell_type": "raw",
   "id": "9879da8a-1a3a-4b14-8bf6-be0c412df9f0",
   "metadata": {},
   "source": [
    "We can restrict the Result Set: WHERE Clause\n",
    "**ALWAYS REQUIRES a __PREDICATE__\n",
    "**USED TO SPECIFY ROWS TO RETRIEVE\n",
    "A Predicate is an expression which evaluates to True, False || Unknown "
   ]
  },
  {
   "cell_type": "code",
   "execution_count": null,
   "id": "e8d509cd-f038-4b12-9dcd-6cd36f450cc9",
   "metadata": {},
   "outputs": [],
   "source": [
    "Select book_id, title from Book\n",
    "    WHERE book_id='B1'\n",
    "# This return set will include book_id & title ONLY for row w/ book_id = \"B1\""
   ]
  }
 ],
 "metadata": {
  "kernelspec": {
   "display_name": "Python 3 (ipykernel)",
   "language": "python",
   "name": "python3"
  },
  "language_info": {
   "codemirror_mode": {
    "name": "ipython",
    "version": 3
   },
   "file_extension": ".py",
   "mimetype": "text/x-python",
   "name": "python",
   "nbconvert_exporter": "python",
   "pygments_lexer": "ipython3",
   "version": "3.10.12"
  }
 },
 "nbformat": 4,
 "nbformat_minor": 5
}
