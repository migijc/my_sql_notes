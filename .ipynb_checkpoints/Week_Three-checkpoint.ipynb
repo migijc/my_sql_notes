{
 "cells": [
  {
   "cell_type": "raw",
   "id": "0f5c08f4-6a62-4f0a-927a-38654e35addc",
   "metadata": {},
   "source": [
    "BUILT-in Functions"
   ]
  },
  {
   "cell_type": "raw",
   "id": "7fda6719-6cf9-4a8d-916c-c6517cf41591",
   "metadata": {},
   "source": [
    "MOST dbs come with built-n SQL functions()\n",
    "Built-in functions can be included as part of SQL Statements\n",
    "CAN speed up data processing"
   ]
  },
  {
   "cell_type": "raw",
   "id": "7c6a84f2-7e50-4794-a7d7-86de652d7002",
   "metadata": {},
   "source": [
    "AGGREGRATE || COLUMN FUNCTIONS\n",
    "    -SUM()\n",
    "    -MIN()\n",
    "    -MAX()\n",
    "    -AVG()\n",
    "    \n",
    "    **Aggregate ()=> take collection of values as input &\n",
    "        RETURN a __Single_Value__\n",
    "    **Param is <column_name> to perform aggregate function on.\n",
    "\n",
    "    **Column in result set is given a number, use an ALIAS to give it a name"
   ]
  },
  {
   "cell_type": "raw",
   "id": "bd231f41-5536-43fe-ad28-baf2de54e36c",
   "metadata": {},
   "source": [
    "COLUMN ALIAS\n",
    "Can Explicitly name columns in output column using an Alias with 'as'\n",
    "\n",
    "EXAMPLE\n",
    "    select SUM(COST) as some_alias_name\n",
    "        from column_name"
   ]
  },
  {
   "cell_type": "raw",
   "id": "8986d754-783f-451e-b95d-be180373e4eb",
   "metadata": {},
   "source": [
    "SCALAR and STRING FUNCTIONS\n",
    "\n",
    "SCALAR: Perform operations on every input value essentially mapping it.\n",
    "    -ROUND()\n",
    "    -LENGTH()\n",
    "    -UCASE\n",
    "    -LCASE\n",
    "**Can be used in WHERE Clause"
   ]
  },
  {
   "cell_type": "raw",
   "id": "3b4c7dd2-1e56-443b-a64f-d64a597b7ff7",
   "metadata": {},
   "source": [
    "DATE & TIME Built-in Functions\n",
    "Most DBs contain special datatypes for dates & times\n",
    "For Example:\n",
    "    DB2:{\n",
    "        DATE : YYYYMMDD,\n",
    "        TIME : HHMMSS,\n",
    "        TIMESTAMP : YYYYXXDDHHMMSSZZZZZZ\n",
    "\n",
    "        YEAR()\n",
    "        MONTH()\n",
    "        DAY()\n",
    "        DAYOFMONTH()\n",
    "        DAYOFWEEK()\n",
    "        DAYOFYEAR()\n",
    "        WEEK()\n",
    "        HOUR()\n",
    "        MINUTE()\n",
    "        SECOND()\n",
    "    }\n",
    "** Date & time functions provided by DB2 to extract info from special data types\n",
    "** Can be used in WHERE Clause \n",
    "\n",
    "Can do Date || Time Arithmetic \n",
    "    SELECT (RESCUEDATE + 3 DAYS) from PETRESCUE\n",
    "    "
   ]
  },
  {
   "cell_type": "raw",
   "id": "96e03881-48c6-41cb-9276-a949b514eef7",
   "metadata": {},
   "source": [
    "SPECIAL REGISTERS\n",
    "    -CURRENT_DATE\n",
    "    -CURRENT_TIME\n",
    "**Can find out time passed between 2 dates or times using \n",
    "    SELECT (CURRENT_DATE - RESCUEDATE) FROM PETRECUE"
   ]
  }
 ],
 "metadata": {
  "kernelspec": {
   "display_name": "Python 3 (ipykernel)",
   "language": "python",
   "name": "python3"
  },
  "language_info": {
   "codemirror_mode": {
    "name": "ipython",
    "version": 3
   },
   "file_extension": ".py",
   "mimetype": "text/x-python",
   "name": "python",
   "nbconvert_exporter": "python",
   "pygments_lexer": "ipython3",
   "version": "3.10.12"
  }
 },
 "nbformat": 4,
 "nbformat_minor": 5
}
