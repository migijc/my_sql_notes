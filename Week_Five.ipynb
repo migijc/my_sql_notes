{
 "cells": [
  {
   "cell_type": "raw",
   "id": "48877ce4-9c96-4313-bc05-38981f3b840a",
   "metadata": {},
   "source": [
    "When working with mixed-case column names like player_Id we use double quotes \"player_Id\"\n",
    "    SELECT \"player_Id\" FROM My_Table\n",
    "**IMPORTANT Use Double Quotes"
   ]
  },
  {
   "cell_type": "raw",
   "id": "86ca205f-fe2d-466b-a369-e4129c371d39",
   "metadata": {},
   "source": [
    "If Column names have spaces or special characters will be mapped to underscores _"
   ]
  },
  {
   "cell_type": "raw",
   "id": "93385681-e1c9-4e92-98e1-29df181406a0",
   "metadata": {},
   "source": [
    "GETTING TABLE & COLUMN NAMES\n",
    "\n",
    "DBs Normally contain System || Catalog tables which we can query the list of tables and get their properties "
   ]
  }
 ],
 "metadata": {
  "kernelspec": {
   "display_name": "Python 3 (ipykernel)",
   "language": "python",
   "name": "python3"
  },
  "language_info": {
   "codemirror_mode": {
    "name": "ipython",
    "version": 3
   },
   "file_extension": ".py",
   "mimetype": "text/x-python",
   "name": "python",
   "nbconvert_exporter": "python",
   "pygments_lexer": "ipython3",
   "version": "3.10.12"
  }
 },
 "nbformat": 4,
 "nbformat_minor": 5
}
