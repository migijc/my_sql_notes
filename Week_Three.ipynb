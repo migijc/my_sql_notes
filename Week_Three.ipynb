{
 "cells": [
  {
   "cell_type": "raw",
   "id": "0f5c08f4-6a62-4f0a-927a-38654e35addc",
   "metadata": {},
   "source": [
    "BUILT-in Functions"
   ]
  },
  {
   "cell_type": "raw",
   "id": "7fda6719-6cf9-4a8d-916c-c6517cf41591",
   "metadata": {},
   "source": [
    "MOST dbs come with built-n SQL functions()\n",
    "Built-in functions can be included as part of SQL Statements\n",
    "CAN speed up data processing"
   ]
  },
  {
   "cell_type": "raw",
   "id": "7c6a84f2-7e50-4794-a7d7-86de652d7002",
   "metadata": {},
   "source": [
    "AGGREGRATE || COLUMN FUNCTIONS\n",
    "    -SUM()\n",
    "    -MIN()\n",
    "    -MAX()\n",
    "    -AVG()\n",
    "    \n",
    "    **Aggregate ()=> take collection of values as input &\n",
    "        RETURN a __Single_Value__\n",
    "    **Param is <column_name> to perform aggregate function on.\n",
    "\n",
    "    **Column in result set is given a number, use an ALIAS to give it a name"
   ]
  },
  {
   "cell_type": "raw",
   "id": "bd231f41-5536-43fe-ad28-baf2de54e36c",
   "metadata": {},
   "source": [
    "COLUMN ALIAS\n",
    "Can Explicitly name columns in output column using an Alias with 'as'\n",
    "\n",
    "EXAMPLE\n",
    "    select SUM(COST) as some_alias_name\n",
    "        from column_name"
   ]
  },
  {
   "cell_type": "raw",
   "id": "8986d754-783f-451e-b95d-be180373e4eb",
   "metadata": {},
   "source": [
    "SCALAR and STRING FUNCTIONS\n",
    "\n",
    "SCALAR: Perform operations on every input value essentially mapping it.\n",
    "    -ROUND()\n",
    "    -LENGTH()\n",
    "    -UCASE\n",
    "    -LCASE\n",
    "**Can be used in WHERE Clause"
   ]
  },
  {
   "cell_type": "raw",
   "id": "3b4c7dd2-1e56-443b-a64f-d64a597b7ff7",
   "metadata": {},
   "source": [
    "DATE & TIME Built-in Functions\n",
    "Most DBs contain special datatypes for dates & times\n",
    "For Example:\n",
    "    DB2:{\n",
    "        DATE : YYYYMMDD,\n",
    "        TIME : HHMMSS,\n",
    "        TIMESTAMP : YYYYXXDDHHMMSSZZZZZZ\n",
    "\n",
    "        YEAR()\n",
    "        MONTH()\n",
    "        DAY()\n",
    "        DAYOFMONTH()\n",
    "        DAYOFWEEK()\n",
    "        DAYOFYEAR()\n",
    "        WEEK()\n",
    "        HOUR()\n",
    "        MINUTE()\n",
    "        SECOND()\n",
    "    }\n",
    "** Date & time functions provided by DB2 to extract info from special data types\n",
    "** Can be used in WHERE Clause \n",
    "\n",
    "Can do Date || Time Arithmetic \n",
    "    SELECT (RESCUEDATE + 3 DAYS) from PETRESCUE\n",
    "    "
   ]
  },
  {
   "cell_type": "raw",
   "id": "96e03881-48c6-41cb-9276-a949b514eef7",
   "metadata": {},
   "source": [
    "SPECIAL REGISTERS\n",
    "    -CURRENT_DATE\n",
    "    -CURRENT_TIME\n",
    "**Can find out time passed between 2 dates or times using \n",
    "    SELECT (CURRENT_DATE - RESCUEDATE) FROM PETRECUE"
   ]
  },
  {
   "cell_type": "raw",
   "id": "a40efc49-3ad8-4a53-8af0-8ace3d7e444b",
   "metadata": {},
   "source": [
    "MySQL provides these built-in functions for Date & Time\n",
    "    DATE_ADD()\n",
    "    DATE_SUB()\n",
    "    DATEDIFF()\n",
    "    FROM_DAYS()\n",
    "SELECT DATE_ADD(RESCUEDATE, INTERVAL 2 MONTH) FROM PETRESCUE"
   ]
  },
  {
   "cell_type": "raw",
   "id": "8eef61e7-3ec3-476b-9924-0921c2625c38",
   "metadata": {},
   "source": [
    "Sub-Queries & Nested Selects\n",
    "\n",
    "Sub-query: A query inside another query\n",
    "    -placed within () paranthesis\n",
    "\n",
    "**PRODUCES ___ERROR___, INVALID USE OF AGGREGATE FUNCTION, cannot evaluate aggregate functions in WHERE Clause\n",
    "SELECT * FROM Employees\n",
    "    WHERE Salary > AVG(Salary )\n",
    "\n",
    "**MUST USE A SUB-QUERY, a sub-Select expression\n",
    "SELECT EMP_ID, F_NAME, SALARY\n",
    "    FROM Employees\n",
    "    WHERE SALARY < \n",
    "    (select AVG(SALARY) FROM Employees)\n",
    "\n",
    "\n",
    "\n",
    "When a Sub-query is used in place of a column_name in a SELECT statement\n",
    "    its refered to as a ___COLUMN_EXPRESSION___\n",
    "\n",
    "When a Sub-query is used in FROM Clause, ie substitute the TABLE Name w/ a sub-query\n",
    "    its refered to as a ___DERIVED_TABLES___  || ___TABLE_EXPRESSIONS___ \n",
    "    **OUTER QUERY USES RESULT OF SUB QUERY AS A DATA SOURCE\n",
    "    **REQUIRED to give ___Derived_Tables___ an ALIAS"
   ]
  },
  {
   "cell_type": "raw",
   "id": "281f0d14-227b-4dcb-b797-51c971ac9def",
   "metadata": {},
   "source": [
    "WORKING W/ MULTIPLE TABLES\n",
    "    1) SUB-Queries\n",
    "    2) Implicit JOIN\n",
    "    3) JOIN operators (INNER_JOIN, OUTER_JOIN, etc.)"
   ]
  },
  {
   "cell_type": "raw",
   "id": "9341ef9d-3235-42ec-891d-363063c50352",
   "metadata": {},
   "source": [
    "IMPLICIT JOIN\n",
    "\n",
    "Can specify more than 1 table in the FROM Clause to join tables\n",
    "    SELECT * FROM Table_One, Table_Two\n",
    "*Results in a full join (Cartesian Join)\n",
    "    -Every ROW in 1st table is joined w/ every row in 2nd table\n",
    "\n",
    "When accessing a column from a table use 'Dot Notation' syntax\n",
    "    SELECT * FROM Table_One, Table_Two\n",
    "        WHERE Table_One.column\n",
    "\n",
    "Can give Tables ALIASES also when joining them\n",
    "    SELECT * FROM Table_One T_ONE, Table_Two, T_TWO\n",
    "        WHERE T_ONE.column\n",
    "\n",
    "COLUMN names can be prefixed by aliases \n",
    "    SELECT T_ONE.prop FROM Table_ONE T_ONE, Table_Two T_TWO"
   ]
  }
 ],
 "metadata": {
  "kernelspec": {
   "display_name": "Python 3 (ipykernel)",
   "language": "python",
   "name": "python3"
  },
  "language_info": {
   "codemirror_mode": {
    "name": "ipython",
    "version": 3
   },
   "file_extension": ".py",
   "mimetype": "text/x-python",
   "name": "python",
   "nbconvert_exporter": "python",
   "pygments_lexer": "ipython3",
   "version": "3.10.12"
  }
 },
 "nbformat": 4,
 "nbformat_minor": 5
}
